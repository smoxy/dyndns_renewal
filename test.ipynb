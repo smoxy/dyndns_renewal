{
 "cells": [
  {
   "cell_type": "code",
   "execution_count": 1,
   "metadata": {},
   "outputs": [],
   "source": [
    "import sqlite3\n",
    "import datetime\n",
    "\n",
    "con = sqlite3.connect('dyndns.db')\n",
    "cur = con.cursor()"
   ]
  },
  {
   "cell_type": "code",
   "execution_count": 2,
   "metadata": {},
   "outputs": [
    {
     "data": {
      "text/plain": [
       "<sqlite3.Cursor at 0x1d104d6c8c0>"
      ]
     },
     "execution_count": 2,
     "metadata": {},
     "output_type": "execute_result"
    }
   ],
   "source": [
    "cur.execute('''CREATE TABLE renews(\n",
    "    datetime NUMERIC PRIMARY KEY,\n",
    "    action TEXT\n",
    "    );''')"
   ]
  },
  {
   "cell_type": "code",
   "execution_count": 10,
   "metadata": {},
   "outputs": [],
   "source": [
    "\n",
    "\n",
    "cur.execute('''INSERT INTO renews(datetime, action) VALUES(?,?);''', (lastConfirm, \"PROVA\"))\n",
    "con.commit()"
   ]
  },
  {
   "cell_type": "code",
   "execution_count": 11,
   "metadata": {},
   "outputs": [
    {
     "data": {
      "text/plain": [
       "31"
      ]
     },
     "execution_count": 11,
     "metadata": {},
     "output_type": "execute_result"
    }
   ],
   "source": [
    "lastConfirm = datetime.datetime.strptime(\"19-08-2022 15:22:27\", \"%d-%m-%Y %H:%M:%S\")\n",
    "res = cur.execute('''SELECT datetime FROM renews WHERE action==\"Confermed\" ORDER BY datetime DESC;''')\n",
    "date = datetime.datetime.strptime(res.fetchone()[0], \"%Y-%m-%d %H:%M:%S\")\n",
    "(date - lastConfirm).days"
   ]
  },
  {
   "cell_type": "code",
   "execution_count": 2,
   "metadata": {},
   "outputs": [
    {
     "data": {
      "text/plain": [
       "'2022-09-19 15:54:46'"
      ]
     },
     "execution_count": 2,
     "metadata": {},
     "output_type": "execute_result"
    }
   ],
   "source": [
    "datetime.datetime.utcnow().strftime(\"%Y-%m-%d %H:%M:%S\")"
   ]
  }
 ],
 "metadata": {
  "kernelspec": {
   "display_name": "Python 3.10.5 ('selenium')",
   "language": "python",
   "name": "python3"
  },
  "language_info": {
   "codemirror_mode": {
    "name": "ipython",
    "version": 3
   },
   "file_extension": ".py",
   "mimetype": "text/x-python",
   "name": "python",
   "nbconvert_exporter": "python",
   "pygments_lexer": "ipython3",
   "version": "3.10.5"
  },
  "orig_nbformat": 4,
  "vscode": {
   "interpreter": {
    "hash": "5fc384c40b6a40872a08b6c8553cc1f39bf41860e7532a9971ad404cb5c0cbd2"
   }
  }
 },
 "nbformat": 4,
 "nbformat_minor": 2
}
